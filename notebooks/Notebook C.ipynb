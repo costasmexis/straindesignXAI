{
 "cells": [
  {
   "cell_type": "code",
   "execution_count": 1,
   "id": "b6e818c2-411d-4517-b911-45ccd0237e32",
   "metadata": {},
   "outputs": [],
   "source": [
    "import sys\n",
    "sys.path.append('../src')\n",
    "\n",
    "import os\n",
    "import cobra\n",
    "import pandas as pd\n",
    "import omg \n",
    "from plot_multiomics import *\n",
    "from tqdm import tqdm"
   ]
  },
  {
   "cell_type": "code",
   "execution_count": 2,
   "id": "393c5eaa-4686-4c5c-813f-d8c64cf6b3f4",
   "metadata": {},
   "outputs": [],
   "source": [
    "user_params = {\n",
    "    'host': 'ecoli', # ecoli or ropacus\n",
    "    'modelfile': '../data/models/iJO1366_MVA.json',\n",
    "    'cerevisiae_modelfile': '../data/models/iMM904.json', \n",
    "    'timestart': 0.0,\n",
    "    'timestop': 8.0,\n",
    "    'numtimepoints': 9,\n",
    "    # TODO: Update designs file & designs file path\n",
    "    'designsfile': 'ARTrecommendations.csv',\n",
    "    'designsfilepath': '../data/art_output',\n",
    "    'mapping_file': '../mapping/inchikey_to_cid.txt',\n",
    "    'output_file_path': 'data/omg_output',\n",
    "    'edd_omics_file_path': '../data/omg_output/edd/',\n",
    "    'numreactions': 8,\n",
    "    'numinstances': 10,\n",
    "    'ext_metabolites': {\n",
    "        'glc__D_e': 22.203,\n",
    "        'nh4_e': 18.695,\n",
    "        'pi_e': 69.454,\n",
    "        'so4_e': 2.0,\n",
    "        'mg2_e': 2.0,\n",
    "        'k_e': 21.883,\n",
    "        'na1_e': 103.7,\n",
    "        'cl_e': 27.25,\n",
    "        'isoprenol_e': 0.0,\n",
    "        'ac_e': 0.0,\n",
    "        'for_e': 0.0,\n",
    "        'lac__D_e': 0.0,\n",
    "        'etoh_e': 0.0\n",
    "    },\n",
    "    'initial_OD': 0.01,\n",
    "    'BIOMASS_REACTION_ID': 'BIOMASS_Ec_iJO1366_core_53p95M'\n",
    "} "
   ]
  },
  {
   "cell_type": "markdown",
   "id": "181ffef1-eeb5-4ebd-9dd9-ba4d972f3275",
   "metadata": {},
   "source": [
    "### 1. Getting and preparing the metabolic model"
   ]
  },
  {
   "cell_type": "code",
   "execution_count": 3,
   "id": "aebe59ab-9dd0-44d3-a6c7-181032da1c64",
   "metadata": {},
   "outputs": [
    {
     "name": "stdout",
     "output_type": "stream",
     "text": [
      "Set parameter Username\n",
      "Academic license - for non-commercial use only - expires 2024-12-30\n",
      "Read LP format model from file C:\\Users\\mexis\\AppData\\Local\\Temp\\tmpxi9ht02x.lp\n",
      "Reading time = 0.06 seconds\n",
      ": 1824 rows, 5194 columns, 20480 nonzeros\n"
     ]
    }
   ],
   "source": [
    "file_name = user_params['modelfile']\n",
    "model = cobra.io.load_json_model(file_name)\n",
    "\n",
    "# Add minimum flux constraints for production of isoprenol and formate and limit oxygen intake\n",
    "iso = 'EX_isoprenol_e'\n",
    "iso_cons = model.problem.Constraint(model.reactions.EX_isoprenol_e.flux_expression,lb = 0.20)\n",
    "model.add_cons_vars(iso_cons)\n",
    "for_cons = model.problem.Constraint(model.reactions.EX_for_e.flux_expression,lb = 0.10)\n",
    "model.add_cons_vars(for_cons)\n",
    "o2_cons = model.problem.Constraint(model.reactions.EX_o2_e.flux_expression,lb = -8.0)\n",
    "model.add_cons_vars(o2_cons)\n",
    "\n",
    "# Constrain several central carbon metabolism fluxes to more realistic upper and lower bounds\n",
    "CC_rxn_names = ['ACCOAC','MDH','PTAr','CS','ACACT1r','PPC','PPCK','PFL']\n",
    "for reaction in CC_rxn_names:\n",
    "    reaction_constraint = model.problem.Constraint(model.reactions.get_by_id(reaction).flux_expression,lb = -1.0,ub =  1.0)\n",
    "    model.add_cons_vars(reaction_constraint)\n",
    "\n",
    "# Create also a similar model with a higher production of isoprenol, which we will use with MOMA to simulate bioengineered strains:\n",
    "modelHI = model.copy()\n",
    "iso_cons = modelHI.problem.Constraint(modelHI.reactions.EX_isoprenol_e.flux_expression,lb = 0.25)\n",
    "modelHI.add_cons_vars(iso_cons)\n"
   ]
  },
  {
   "cell_type": "markdown",
   "id": "9381b273-a04e-4d7a-8b42-a611cfbe39ea",
   "metadata": {},
   "source": [
    "### 2. Obtaining times series for the WT"
   ]
  },
  {
   "cell_type": "code",
   "execution_count": null,
   "id": "f59057c4-a13b-4de3-a31f-084e95cc9603",
   "metadata": {},
   "outputs": [],
   "source": [
    "# Create grid for simulation\n",
    "t0 = user_params['timestart']\n",
    "tf = user_params['timestop']\n",
    "points = user_params['numtimepoints']\n",
    "tspan, delt = np.linspace(t0, tf, points, dtype='float64', retstep=True)\n",
    "grid = (tspan, delt)\n",
    "\n",
    "# Use model to obtain the time series for fluxes, OD and external metabolites\n",
    "solution_TS, model_TS, cell, Emets, Erxn2Emet = \\\n",
    "    omg.get_flux_time_series(model, user_params['ext_metabolites'], grid, user_params)\n",
    "\n",
    "# perform the same calculation for the model with higher isoprenol production that we created above\n",
    "solutionHI_TS, modelHI_TS, cellHI, EmetsHI, Erxn2EmetHI = \\\n",
    "    omg.get_flux_time_series(modelHI, user_params['ext_metabolites'], grid, user_params)\n"
   ]
  },
  {
   "cell_type": "markdown",
   "id": "d5134fe4-8826-402d-a1be-329b974e33e6",
   "metadata": {},
   "source": [
    "### 3. Getting bioengineered flux profiles through MOMA"
   ]
  },
  {
   "cell_type": "code",
   "execution_count": null,
   "id": "ba1ab7d2-9657-414e-9b42-e7c842e9693c",
   "metadata": {},
   "outputs": [],
   "source": [
    "# Read the file with suggested designs (i.e. reactions KOs and Overexpressions)\n"
   ]
  }
 ],
 "metadata": {
  "kernelspec": {
   "display_name": "Python 3 (ipykernel)",
   "language": "python",
   "name": "python3"
  },
  "language_info": {
   "codemirror_mode": {
    "name": "ipython",
    "version": 3
   },
   "file_extension": ".py",
   "mimetype": "text/x-python",
   "name": "python",
   "nbconvert_exporter": "python",
   "pygments_lexer": "ipython3",
   "version": "3.11.2"
  }
 },
 "nbformat": 4,
 "nbformat_minor": 5
}
