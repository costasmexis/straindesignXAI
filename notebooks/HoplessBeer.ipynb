{
 "cells": [
  {
   "cell_type": "code",
   "execution_count": 20,
   "metadata": {},
   "outputs": [],
   "source": [
    "import pandas as pd\n",
    "\n",
    "def transform_data(df: pd.DataFrame) -> pd.DataFrame:\n",
    "    new_columns = df['Type'].unique()\n",
    "    data = pd.DataFrame()\n",
    "    data.index = df['Line Name'].unique()\n",
    "    for col in new_columns:\n",
    "        data[col] = 0\n",
    "    for l in data.index:\n",
    "        for c in new_columns:\n",
    "            value = df[(df['Line Name'] == l) & (df['Type'] == c)]['0.0'].values\n",
    "            data.loc[l, c] = value\n",
    "    return data\n",
    "\n"
   ]
  },
  {
   "cell_type": "code",
   "execution_count": 37,
   "metadata": {},
   "outputs": [],
   "source": [
    "df_A = pd.read_csv('../data/Hopless beer Cycle 1.csv')\n",
    "df_A = df_A[['Line Name', 'Type', 'Formal Type ID', '0.0']]\n",
    "df_A = transform_data(df_A) \n",
    "\n",
    "df_B = pd.read_csv('../data/Hopless beer Cycle 2.csv')\n",
    "df_B = df_B[['Line Name', 'Type', 'Formal Type ID', '0.0']]\n",
    "df_B = transform_data(df_B)"
   ]
  },
  {
   "cell_type": "code",
   "execution_count": 38,
   "metadata": {},
   "outputs": [
    {
     "name": "stdout",
     "output_type": "stream",
     "text": [
      "DBTL A: (19, 10)\n",
      "DBTL B: (30, 10)\n"
     ]
    }
   ],
   "source": [
    "print(f'DBTL A: {df_A.shape}')\n",
    "print(f'DBTL B: {df_B.shape}')"
   ]
  }
 ],
 "metadata": {
  "kernelspec": {
   "display_name": "main",
   "language": "python",
   "name": "python3"
  },
  "language_info": {
   "codemirror_mode": {
    "name": "ipython",
    "version": 3
   },
   "file_extension": ".py",
   "mimetype": "text/x-python",
   "name": "python",
   "nbconvert_exporter": "python",
   "pygments_lexer": "ipython3",
   "version": "3.11.2"
  }
 },
 "nbformat": 4,
 "nbformat_minor": 2
}
