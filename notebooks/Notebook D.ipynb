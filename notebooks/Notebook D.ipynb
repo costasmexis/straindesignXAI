{
 "cells": [
  {
   "cell_type": "code",
   "execution_count": null,
   "id": "b6e818c2-411d-4517-b911-45ccd0237e32",
   "metadata": {},
   "outputs": [],
   "source": [
    "import sys\n",
    "sys.path.append('../src')\n",
    "\n",
    "import os\n",
    "import cobra\n",
    "import pandas as pd\n",
    "import omg \n",
    "from plot_multiomics import *\n",
    "from tqdm import tqdm"
   ]
  },
  {
   "cell_type": "code",
   "execution_count": null,
   "id": "393c5eaa-4686-4c5c-813f-d8c64cf6b3f4",
   "metadata": {},
   "outputs": [],
   "source": [
    "user_params = {\n",
    "    'host': 'ecoli', # ecoli or ropacus\n",
    "    'modelfile': '../data/models/iJO1366_MVA.json',\n",
    "    'cerevisiae_modelfile': '../data/models/iMM904.json', \n",
    "    'timestart': 0.0,\n",
    "    'timestop': 8.0,\n",
    "    'numtimepoints': 9,\n",
    "    # TODO: Update designs file & designs file path\n",
    "    'designsfile': 'rec_strains.csv',\n",
    "    'designsfilepath': '../data/art_output',\n",
    "    'mapping_file': '../mapping/inchikey_to_cid.txt',\n",
    "    'output_file_path': 'data/omg_output',\n",
    "    'edd_omics_file_path': '../data/omg_output/edd/',\n",
    "    'numreactions': 8,\n",
    "    'numinstances': 10,\n",
    "    'ext_metabolites': {\n",
    "        'glc__D_e': 22.203,\n",
    "        'nh4_e': 18.695,\n",
    "        'pi_e': 69.454,\n",
    "        'so4_e': 2.0,\n",
    "        'mg2_e': 2.0,\n",
    "        'k_e': 21.883,\n",
    "        'na1_e': 103.7,\n",
    "        'cl_e': 27.25,\n",
    "        'isoprenol_e': 0.0,\n",
    "        'ac_e': 0.0,\n",
    "        'for_e': 0.0,\n",
    "        'lac__D_e': 0.0,\n",
    "        'etoh_e': 0.0\n",
    "    },\n",
    "    'initial_OD': 0.01,\n",
    "    'BIOMASS_REACTION_ID': 'BIOMASS_Ec_iJO1366_core_53p95M'\n",
    "} "
   ]
  },
  {
   "cell_type": "markdown",
   "id": "181ffef1-eeb5-4ebd-9dd9-ba4d972f3275",
   "metadata": {},
   "source": [
    "### 1. Getting and preparing the metabolic model"
   ]
  },
  {
   "cell_type": "code",
   "execution_count": null,
   "id": "aebe59ab-9dd0-44d3-a6c7-181032da1c64",
   "metadata": {},
   "outputs": [],
   "source": [
    "file_name = user_params['modelfile']\n",
    "model = cobra.io.load_json_model(file_name)\n",
    "model.solver = 'glpk'\n",
    "\n",
    "# Add minimum flux constraints for production of isoprenol and formate and limit oxygen intake\n",
    "iso = 'EX_isoprenol_e'\n",
    "iso_cons = model.problem.Constraint(model.reactions.EX_isoprenol_e.flux_expression,lb = 0.20)\n",
    "model.add_cons_vars(iso_cons)\n",
    "for_cons = model.problem.Constraint(model.reactions.EX_for_e.flux_expression,lb = 0.10)\n",
    "model.add_cons_vars(for_cons)\n",
    "o2_cons = model.problem.Constraint(model.reactions.EX_o2_e.flux_expression,lb = -8.0)\n",
    "model.add_cons_vars(o2_cons)\n",
    "\n",
    "# Constrain several central carbon metabolism fluxes to more realistic upper and lower bounds\n",
    "CC_rxn_names = ['ACCOAC','MDH','PTAr','CS','ACACT1r','PPC','PPCK','PFL']\n",
    "for reaction in CC_rxn_names:\n",
    "    reaction_constraint = model.problem.Constraint(model.reactions.get_by_id(reaction).flux_expression,lb = -1.0,ub =  1.0)\n",
    "    model.add_cons_vars(reaction_constraint)\n",
    "\n",
    "# Create also a similar model with a higher production of isoprenol, which we will use with MOMA to simulate bioengineered strains:\n",
    "modelHI = model.copy()\n",
    "iso_cons = modelHI.problem.Constraint(modelHI.reactions.EX_isoprenol_e.flux_expression,lb = 0.25)\n",
    "modelHI.add_cons_vars(iso_cons)\n"
   ]
  },
  {
   "cell_type": "markdown",
   "id": "9381b273-a04e-4d7a-8b42-a611cfbe39ea",
   "metadata": {},
   "source": [
    "### 2. Obtaining times series for the WT"
   ]
  },
  {
   "cell_type": "code",
   "execution_count": null,
   "id": "f59057c4-a13b-4de3-a31f-084e95cc9603",
   "metadata": {},
   "outputs": [],
   "source": [
    "# Create grid for simulation\n",
    "t0 = user_params['timestart']\n",
    "tf = user_params['timestop']\n",
    "points = user_params['numtimepoints']\n",
    "tspan, delt = np.linspace(t0, tf, points, dtype='float64', retstep=True)\n",
    "grid = (tspan, delt)\n",
    "\n",
    "# Use model to obtain the time series for fluxes, OD and external metabolites\n",
    "solution_TS, model_TS, cell, Emets, Erxn2Emet = \\\n",
    "    omg.get_flux_time_series(model, user_params['ext_metabolites'], grid, user_params)\n"
   ]
  },
  {
   "cell_type": "code",
   "execution_count": null,
   "id": "8f0c202f",
   "metadata": {},
   "outputs": [],
   "source": [
    "# perform the same calculation for the model with higher isoprenol production that we created above\n",
    "solutionHI_TS, modelHI_TS, cellHI, EmetsHI, Erxn2EmetHI = \\\n",
    "    omg.get_flux_time_series(modelHI, user_params['ext_metabolites'], grid, user_params)\n"
   ]
  },
  {
   "cell_type": "markdown",
   "id": "d5134fe4-8826-402d-a1be-329b974e33e6",
   "metadata": {},
   "source": [
    "### 3. Getting bioengineered flux profiles through MOMA"
   ]
  },
  {
   "cell_type": "code",
   "execution_count": null,
   "id": "ba1ab7d2-9657-414e-9b42-e7c842e9693c",
   "metadata": {},
   "outputs": [],
   "source": [
    "# Read the file with suggested designs (i.e. reactions KOs and Overexpressions)\n",
    "rec_df = pd.read_csv(f'{user_params[\"designsfilepath\"]}/{user_params[\"designsfile\"]}', index_col=0)\n",
    "rec_df.sort_values(by='pred', ascending=False, inplace=True)\n",
    "rec_df = rec_df.head(10)\n",
    "rec_df.reset_index(inplace=True, drop=True)\n",
    "rec_df['Line Name'] = [f'Strain {i}' for i in range(1, rec_df.shape[0]+1)]\n",
    "cols = rec_df.columns.tolist()\n",
    "cols = cols[-1:] + cols[:-1]\n",
    "rec_df = rec_df[cols]\n",
    "\n",
    "num_columns_to_update = len(rec_df.columns) - 1  # Excluding the first column\n",
    "rec_df.iloc[-1, 1:] = np.random.randint(0, 3, size=num_columns_to_update)\n",
    "\n",
    "print(rec_df.shape)\n",
    "rec_df"
   ]
  },
  {
   "cell_type": "markdown",
   "id": "a606fc5c",
   "metadata": {},
   "source": [
    "We then use MOMA to calculate flux profiles at each time point for the recommended strains. Instead of using the solution time series corresponding to the initial model, we use the solution time series corresponding to the higher production. The reason is that, otherwise, we would never see an increase in isoprenol production, since MOMA minimizes the changes in flux by design. Remember that our goal here is just to create realistic flux profiles that can be used to showcase our straindesignXAI. This approach is good enough for that purpose:"
   ]
  },
  {
   "cell_type": "code",
   "execution_count": null,
   "id": "5e65f7d9",
   "metadata": {
    "scrolled": false
   },
   "outputs": [],
   "source": [
    "%%time\n",
    "solutionsMOMA_TS = {}\n",
    "cols = rec_df.columns[:-2]\n",
    "\n",
    "if user_params['numinstances'] not in [None, 0]:\n",
    "    num_strains = user_params['numinstances']\n",
    "else:\n",
    "    num_strains = rec_df.shape[0]\n",
    "\n",
    "for i in tqdm(range(num_strains)):\n",
    "    design = rec_df[cols].loc[i]\n",
    "    if design['Line Name']=='WT':\n",
    "        solutionsMOMA_TS[i] = omg.getBEFluxes(model_TS, design, solution_TS, grid)\n",
    "    else:\n",
    "        solutionsMOMA_TS[i] = omg.getBEFluxes(model_TS, design, solutionHI_TS, grid)"
   ]
  },
  {
   "cell_type": "markdown",
   "id": "20636b59",
   "metadata": {},
   "source": [
    "### 4. Producing the external metabolite concentrations for each recommendation"
   ]
  },
  {
   "cell_type": "code",
   "execution_count": null,
   "id": "2ab92948",
   "metadata": {},
   "outputs": [],
   "source": [
    "cellsEmetsBE = {}\n",
    "for i in range(num_strains):\n",
    "    cell, Emets = omg.integrate_fluxes(solutionsMOMA_TS[i], model_TS, user_params['ext_metabolites'], grid, user_params)\n",
    "    cellsEmetsBE[i] = (cell, Emets) "
   ]
  },
  {
   "cell_type": "markdown",
   "id": "5f2f5779",
   "metadata": {},
   "source": [
    "\n",
    "\n",
    "We can visualize the obtained concentrations for a recommendation:\n"
   ]
  },
  {
   "cell_type": "code",
   "execution_count": null,
   "id": "df4c3f4a",
   "metadata": {},
   "outputs": [],
   "source": [
    "i = 0\n",
    "cellBE, EmetsBE = cellsEmetsBE[i]\n",
    "plot_DO_extmets(cellBE, EmetsBE[['glc__D_e','isoprenol_e','ac_e','for_e','lac__D_e','etoh_e']])"
   ]
  },
  {
   "cell_type": "code",
   "execution_count": null,
   "id": "65489309",
   "metadata": {},
   "outputs": [],
   "source": [
    "EmetsBE"
   ]
  },
  {
   "cell_type": "markdown",
   "id": "e2940a30",
   "metadata": {},
   "source": [
    "### Visualizing actual vs predicted isoprenol concentrations for recommendations\n"
   ]
  },
  {
   "cell_type": "code",
   "execution_count": null,
   "id": "20397670",
   "metadata": {},
   "outputs": [],
   "source": [
    "production = []\n",
    "for i in range(user_params['numinstances']):\n",
    "    cell, Emets = cellsEmetsBE[i]\n",
    "    production.append(Emets.loc[9,'isoprenol_e'])\n",
    "    \n",
    "production_df = rec_df.copy()\n",
    "production_df['Actual Isoprenol [mM]'] = production.copy()\n",
    "production_df"
   ]
  },
  {
   "cell_type": "code",
   "execution_count": null,
   "id": "ac8d3a7f",
   "metadata": {},
   "outputs": [],
   "source": [
    "# Save the results\n",
    "production_df.to_csv('../data/recommendations_with_production.csv')"
   ]
  },
  {
   "cell_type": "markdown",
   "id": "330e5405",
   "metadata": {},
   "source": [
    "### Generate omics data for the best recommendation"
   ]
  },
  {
   "cell_type": "code",
   "execution_count": null,
   "id": "461e2931",
   "metadata": {},
   "outputs": [],
   "source": [
    "proteomics_timeseries = {}\n",
    "transcriptomics_timeseries = {}\n",
    "metabolomics_timeseries = {}\n",
    "metabolomics_oldids_timeseries = {}\n",
    "fluxomics_timeseries = {}\n",
    "        \n",
    "for t in tspan:\n",
    "    fluxomics_timeseries[t] = solutionsMOMA_TS[0][t].fluxes.to_dict()\n",
    "    (proteomics_timeseries[t], transcriptomics_timeseries[t], \n",
    "     metabolomics_timeseries[t], metabolomics_oldids_timeseries[t]) = omg.get_multiomics(model, \n",
    "                                                                                         solutionsMOMA_TS[0][t], \n",
    "                                                                                         user_params['mapping_file'], \n",
    "                                                                                         old_ids=True)"
   ]
  },
  {
   "cell_type": "code",
   "execution_count": null,
   "id": "11513ae8",
   "metadata": {},
   "outputs": [],
   "source": [
    "omg.write_experiment_description_file(user_params['edd_omics_file_path'], line_name='Strain 1', label='_BT')\n",
    "omg.write_OD_data(cell, user_params['edd_omics_file_path'], line_name='Strain 1', label='_BT')\n",
    "omg.write_external_metabolite(Emets, user_params['edd_omics_file_path'], line_name='Strain 1', label='_BT')\n",
    "\n",
    "omg.write_omics_files(fluxomics_timeseries, 'fluxomics', user_params, line_name='Strain 1', label='_BT')\n",
    "omg.write_omics_files(proteomics_timeseries, 'proteomics', user_params, line_name='Strain 1', label='_BT')\n",
    "omg.write_omics_files(transcriptomics_timeseries, 'transcriptomics', user_params, line_name='Strain 1', label='_BT')\n",
    "omg.write_omics_files(metabolomics_timeseries, 'metabolomics', user_params, line_name='Strain 1', label='_BT')\n",
    "\n",
    "genesSM       = ['b0180','b2708','b3197','b1094','b2224','b3256','b2316','b3255','b0185','b1101'] \n",
    "proteinsSM    = ['P17115','P45395','P0A6A8','P76461','P77580','P24182','P0A9Q5','P0ABD5','P77580','P00893']\n",
    "metabolitesSM = ['CID:1549101','CID:175','CID:164533','CID:15938965','CID:21604863','CID:15939608','CID:27284','CID:1038','CID:16741146','CID:1778309']\n",
    "transcriptomics_timeseriesSM ={}\n",
    "proteomics_timeseriesSM      ={}\n",
    "metabolomics_timeseriesSM    ={}\n",
    "for t in tspan:\n",
    "    transcriptomics_timeseriesSM[t] = {gene:    transcriptomics_timeseries[t][gene] for gene    in genesSM}\n",
    "    proteomics_timeseriesSM[t]      = {protein: proteomics_timeseries[t][protein]   for protein in proteinsSM}\n",
    "    metabolomics_timeseriesSM[t]    = {metab:   metabolomics_timeseries[t][metab]   for metab   in metabolitesSM}\n",
    "\n",
    "omg.write_omics_files(proteomics_timeseriesSM,     'proteomics'     , user_params, line_name='Strain 1', label='_BTSM')\n",
    "omg.write_omics_files(transcriptomics_timeseriesSM,'transcriptomics', user_params, line_name='Strain 1', label='_BTSM')\n",
    "omg.write_omics_files(metabolomics_timeseriesSM,   'metabolomics'   , user_params, line_name='Strain 1', label='_BTSM')\n",
    "    "
   ]
  }
 ],
 "metadata": {
  "kernelspec": {
   "display_name": "Python 3 (ipykernel)",
   "language": "python",
   "name": "python3"
  },
  "language_info": {
   "codemirror_mode": {
    "name": "ipython",
    "version": 3
   },
   "file_extension": ".py",
   "mimetype": "text/x-python",
   "name": "python",
   "nbconvert_exporter": "python",
   "pygments_lexer": "ipython3",
   "version": "3.11.2"
  }
 },
 "nbformat": 4,
 "nbformat_minor": 5
}
