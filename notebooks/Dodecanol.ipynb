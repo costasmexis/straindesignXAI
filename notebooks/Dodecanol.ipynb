{
 "cells": [
  {
   "cell_type": "code",
   "execution_count": 21,
   "metadata": {},
   "outputs": [
    {
     "data": {
      "text/html": [
       "<div>\n",
       "<style scoped>\n",
       "    .dataframe tbody tr th:only-of-type {\n",
       "        vertical-align: middle;\n",
       "    }\n",
       "\n",
       "    .dataframe tbody tr th {\n",
       "        vertical-align: top;\n",
       "    }\n",
       "\n",
       "    .dataframe thead th {\n",
       "        text-align: right;\n",
       "    }\n",
       "</style>\n",
       "<table border=\"1\" class=\"dataframe\">\n",
       "  <thead>\n",
       "    <tr style=\"text-align: right;\">\n",
       "      <th></th>\n",
       "      <th>Study Name</th>\n",
       "      <th>Line Name</th>\n",
       "      <th>Measurement Type</th>\n",
       "      <th>27.0</th>\n",
       "    </tr>\n",
       "  </thead>\n",
       "  <tbody>\n",
       "    <tr>\n",
       "      <th>0</th>\n",
       "      <td>Ajinomoto Cycle 1</td>\n",
       "      <td>b3-24-3</td>\n",
       "      <td>Tetradecanoate (n-C14:0)</td>\n",
       "      <td>0.06666</td>\n",
       "    </tr>\n",
       "    <tr>\n",
       "      <th>1</th>\n",
       "      <td>Ajinomoto Cycle 1</td>\n",
       "      <td>b2-32-1</td>\n",
       "      <td>Hexadecanoate (n-C16:0)</td>\n",
       "      <td>0.18256</td>\n",
       "    </tr>\n",
       "    <tr>\n",
       "      <th>2</th>\n",
       "      <td>Ajinomoto Cycle 1</td>\n",
       "      <td>b3-24-1</td>\n",
       "      <td>Tetradecanoate (n-C14:0)</td>\n",
       "      <td>0.06731</td>\n",
       "    </tr>\n",
       "    <tr>\n",
       "      <th>3</th>\n",
       "      <td>Ajinomoto Cycle 1</td>\n",
       "      <td>b2-36-3</td>\n",
       "      <td>Hexadecanoate (n-C16:0)</td>\n",
       "      <td>0.02710</td>\n",
       "    </tr>\n",
       "    <tr>\n",
       "      <th>4</th>\n",
       "      <td>Ajinomoto Cycle 1</td>\n",
       "      <td>b3-23-3</td>\n",
       "      <td>Tetradecanoate (n-C14:0)</td>\n",
       "      <td>0.07215</td>\n",
       "    </tr>\n",
       "  </tbody>\n",
       "</table>\n",
       "</div>"
      ],
      "text/plain": [
       "          Study Name Line Name          Measurement Type     27.0\n",
       "0  Ajinomoto Cycle 1   b3-24-3  Tetradecanoate (n-C14:0)  0.06666\n",
       "1  Ajinomoto Cycle 1   b2-32-1   Hexadecanoate (n-C16:0)  0.18256\n",
       "2  Ajinomoto Cycle 1   b3-24-1  Tetradecanoate (n-C14:0)  0.06731\n",
       "3  Ajinomoto Cycle 1   b2-36-3   Hexadecanoate (n-C16:0)  0.02710\n",
       "4  Ajinomoto Cycle 1   b3-23-3  Tetradecanoate (n-C14:0)  0.07215"
      ]
     },
     "execution_count": 21,
     "metadata": {},
     "output_type": "execute_result"
    }
   ],
   "source": [
    "import pandas as pd\n",
    "\n",
    "df = pd.read_csv('../data/ajinomoto.csv')\n",
    "df = df[['Study Name', 'Line Name', 'Measurement Type', '27.0']]\n",
    "df.head()"
   ]
  }
 ],
 "metadata": {
  "kernelspec": {
   "display_name": "main",
   "language": "python",
   "name": "python3"
  },
  "language_info": {
   "codemirror_mode": {
    "name": "ipython",
    "version": 3
   },
   "file_extension": ".py",
   "mimetype": "text/x-python",
   "name": "python",
   "nbconvert_exporter": "python",
   "pygments_lexer": "ipython3",
   "version": "3.11.2"
  }
 },
 "nbformat": 4,
 "nbformat_minor": 2
}
