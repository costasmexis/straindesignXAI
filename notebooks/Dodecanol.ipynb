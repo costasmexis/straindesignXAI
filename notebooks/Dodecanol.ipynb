{
 "cells": [
  {
   "cell_type": "code",
   "execution_count": 78,
   "metadata": {},
   "outputs": [],
   "source": [
    "import pandas as pd\n",
    "import warnings\n",
    "warnings.filterwarnings('ignore')\n",
    "\n",
    "df = pd.read_csv('../data/ajinomoto.csv')\n",
    "df = df[['Study Name', 'Line Name', 'Measurement Type', '27.0']]\n",
    "df['27.0'].fillna(-999, inplace=True)\n",
    "\n",
    "new_columns = df['Measurement Type'].unique()\n",
    "data = pd.DataFrame(index=df['Line Name'].unique(), columns=new_columns)\n",
    "data = data.astype(float)\n",
    "for col in new_columns:\n",
    "    data[col] = 0\n",
    "for l in data.index:\n",
    "    for c in new_columns:\n",
    "        value = df[(df['Line Name']==l) & (df['Measurement Type']==c)]['27.0'].values   \n",
    "        if len(value) == 0:\n",
    "            data.loc[l, c] = 100\n",
    "        elif len(value) > 1:\n",
    "            data.loc[l, c] = value[0]\n",
    "        else:\n",
    "            data.loc[l, c] = value\n",
    "\n",
    "data = data.loc[:, (data != data.iloc[0]).any()]\n",
    "data = data[data['Dodecanoate (n-C12:0)'] != 100]\n",
    "data.shape"
   ]
  },
  {
   "cell_type": "code",
   "execution_count": 79,
   "metadata": {},
   "outputs": [
    {
     "data": {
      "text/plain": [
       "(116, 10)"
      ]
     },
     "execution_count": 79,
     "metadata": {},
     "output_type": "execute_result"
    }
   ],
   "source": []
  }
 ],
 "metadata": {
  "kernelspec": {
   "display_name": "main",
   "language": "python",
   "name": "python3"
  },
  "language_info": {
   "codemirror_mode": {
    "name": "ipython",
    "version": 3
   },
   "file_extension": ".py",
   "mimetype": "text/x-python",
   "name": "python",
   "nbconvert_exporter": "python",
   "pygments_lexer": "ipython3",
   "version": "3.10.12"
  }
 },
 "nbformat": 4,
 "nbformat_minor": 2
}
