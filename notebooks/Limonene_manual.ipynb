{
 "cells": [
  {
   "cell_type": "code",
   "execution_count": null,
   "metadata": {},
   "outputs": [],
   "source": [
    "import warnings\n",
    "\n",
    "warnings.filterwarnings(\"ignore\")\n",
    "\n",
    "import sys\n",
    "\n",
    "sys.path.append(\"../src\")\n",
    "\n",
    "# Add autoreload magic command\n",
    "%load_ext autoreload\n",
    "%autoreload 2\n",
    "\n",
    "import pickle\n",
    "import numpy as np\n",
    "import pandas as pd\n",
    "from IPython.display import display\n",
    "\n",
    "# from pycaret.regression import *\n",
    "from sklearn.metrics import mean_absolute_error, mean_squared_error\n",
    "from sklearn.model_selection import train_test_split\n",
    "from tqdm import tqdm\n",
    "from model_selection import modelSelection\n",
    "\n",
    "warnings.simplefilter(action=\"ignore\", category=FutureWarning)\n",
    "\n",
    "\n",
    "RESPONSE_VARS = [\"Limonene\"]\n",
    "\n",
    "INPUT_VARS = [\n",
    "    \"ATOB_ECOLI\",\n",
    "    \"ERG8_YEAST\",\n",
    "    \"IDI_ECOLI\",\n",
    "    \"KIME_YEAST\",\n",
    "    \"MVD1_YEAST\",\n",
    "    \"Q40322_MENSP\",\n",
    "    \"Q8LKJ3_ABIGR\",\n",
    "    \"Q9FD86_STAAU\",\n",
    "    \"Q9FD87_STAAU\",\n",
    "]\n",
    "\n",
    "DBTL_A = [\n",
    "    \"2X.Mh\",\n",
    "    \"B.Lm\",\n",
    "    \"2X.Ll\",\n",
    "    \"A.Mm\",\n",
    "    \"B.Ll\",\n",
    "    \"A.Mh\",\n",
    "    \"2X.Lm\",\n",
    "    \"A.Hl\",\n",
    "    \"2X.Hh\",\n",
    "    \"B.Ml\",\n",
    "    \"B.Mm\",\n",
    "    \"2X.Lh\",\n",
    "    \"B.Mh\",\n",
    "    \"2X.Hl\",\n",
    "    \"B.Hl\",\n",
    "    \"2X.Ml\",\n",
    "    \"B.Hm\",\n",
    "    \"B.Lh\",\n",
    "    \"B.Hh\",\n",
    "    \"A.Ll\",\n",
    "    \"A.Hm\",\n",
    "    \"2X.Mm\",\n",
    "    \"A.Hh\",\n",
    "    \"A.Ml\",\n",
    "    \"A.Lm\",\n",
    "    \"A.Lh\",\n",
    "    \"2X.Hm\",\n",
    "]\n",
    "\n",
    "DBTL_B = [\"BL.Mm\", \"BL.Mh\", \"BL.Ml\"]\n",
    "\n",
    "PATH = \"../data/preprocessed_Limonene_data.csv\"\n",
    "\n",
    "df = pd.read_csv(PATH, index_col=0)\n",
    "df = df[INPUT_VARS + RESPONSE_VARS]\n",
    "\n",
    "# Split DBTL cycles\n",
    "df_A = df.loc[DBTL_A]\n",
    "df_B = df.loc[DBTL_B]\n",
    "\n",
    "print(f\"Shape of DBTL cycle 1: {df_A.shape} and DBTL cycle 2: {df_B.shape}\")\n",
    "\n",
    "# Define train and test sets\n",
    "X_train = df_A[INPUT_VARS]\n",
    "y_train = df_A[RESPONSE_VARS].values.ravel()\n",
    "\n",
    "X_test = df_B[INPUT_VARS]\n",
    "y_test = df_B[RESPONSE_VARS].values.ravel()\n",
    "\n",
    "\n",
    "# Calculate bounds of pathway proteins\n",
    "def get_bounds(df: pd.DataFrame, input_vars: list, epsilon: float = 0.10):\n",
    "    bounds = pd.DataFrame(index=[\"min\", \"max\"], columns=input_vars)\n",
    "    X = df[input_vars]\n",
    "    max_values = X.max()\n",
    "    min_values = X.min()\n",
    "    delta = max_values - min_values\n",
    "    lb = (min_values - epsilon * delta).clip(lower=min_values)\n",
    "    ub = max_values + epsilon * delta\n",
    "    bounds.loc[\"min\"] = lb\n",
    "    bounds.loc[\"max\"] = ub\n",
    "    return bounds\n",
    "\n",
    "\n",
    "bounds = get_bounds(df_A, INPUT_VARS)\n",
    "display(bounds)"
   ]
  },
  {
   "cell_type": "code",
   "execution_count": null,
   "metadata": {},
   "outputs": [],
   "source": [
    "# Nomrmalize data\n",
    "from sklearn.preprocessing import MinMaxScaler\n",
    "\n",
    "# Add production data to X_train and X_test\n",
    "X_train['Limonene'] = y_train\n",
    "X_test['Limonene'] = y_test\n",
    "\n",
    "scaler = MinMaxScaler()\n",
    "X_train = scaler.fit_transform(X_train)\n",
    "X_test = scaler.transform(X_test)\n",
    "\n",
    "X_train = pd.DataFrame(X_train, columns=[INPUT_VARS+RESPONSE_VARS], index=DBTL_A)\n",
    "X_test = pd.DataFrame(X_test, columns=[INPUT_VARS+RESPONSE_VARS], index=DBTL_B)\n",
    "\n",
    "print('Normalization complete...')"
   ]
  },
  {
   "cell_type": "code",
   "execution_count": null,
   "metadata": {},
   "outputs": [],
   "source": [
    "import tensorflow as tf\n",
    "tf.compat.v1.disable_eager_execution()\n",
    "from tensorflow.keras.layers import Input, Dense, Lambda\n",
    "from tensorflow.keras.models import Model\n",
    "from tensorflow.keras import backend as K\n",
    "from tensorflow.keras.optimizers.legacy import Adam\n",
    "\n",
    "def get_error_term(v1, v2, _rmse=True):\n",
    "    if _rmse:\n",
    "        return np.sqrt(np.mean((v1 - v2) ** 2, axis=1))\n",
    "    #return MAE\n",
    "    return np.mean(abs(v1 - v2), axis=1)\n",
    "\n",
    "def sample(args):\n",
    "    z_mean, z_log_var = args\n",
    "    batch = K.shape(z_mean)[0]\n",
    "    dim = K.int_shape(z_mean)[1]\n",
    "    epsilon = K.random_normal(shape=(batch, dim))\n",
    "    return z_mean + K.exp(0.5 * z_log_var) * epsilon\n",
    "\n",
    "original_dim = X_train.shape[1]\n",
    "input_shape = (original_dim,)\n",
    "intermediate_dim = 50\n",
    "latent_dim = 5\n",
    "\n",
    "# encoder model\n",
    "inputs = Input(shape=input_shape, name='encoder_input')\n",
    "x = Dense(intermediate_dim, activation='relu')(inputs)\n",
    "x = Dense(intermediate_dim, activation='relu')(x)\n",
    "z_mean = Dense(latent_dim, name='z_mean')(x)\n",
    "z_log_var = Dense(latent_dim, name='z_log_var')(x)\n",
    "# use the reparameterization trick and get the output from the sample() function\n",
    "z = Lambda(sample, output_shape=(latent_dim,), name='z')([z_mean, z_log_var])\n",
    "encoder = Model(inputs, z, name='encoder')\n",
    "\n",
    "# decoder model\n",
    "latent_inputs = Input(shape=(latent_dim,), name='z_sampling')\n",
    "x = Dense(intermediate_dim, activation='relu')(latent_inputs)\n",
    "x = Dense(intermediate_dim, activation='relu')(x)\n",
    "outputs = Dense(original_dim)(x)\n",
    "# Instantiate the decoder model:\n",
    "decoder = Model(latent_inputs, outputs, name='decoder')\n",
    "\n",
    "# full VAE model\n",
    "outputs = decoder(encoder(inputs))\n",
    "vae_model = Model(inputs, outputs, name='vae_mlp')\n",
    "\n",
    "# the KL loss function:\n",
    "def vae_loss(x, x_decoded_mean):\n",
    "    # compute the average MSE error, then scale it up, ie. simply sum on all axes\n",
    "    reconstruction_loss = K.sum(K.square(x - x_decoded_mean))\n",
    "    # compute the KL loss\n",
    "    kl_loss = - 0.5 * K.sum(1 + z_log_var - K.square(z_mean) - K.square(K.exp(z_log_var)), axis=-1)\n",
    "    # return the average loss over all \n",
    "    total_loss = K.mean(reconstruction_loss + kl_loss)    \n",
    "    #total_loss = reconstruction_loss + kl_loss\n",
    "    return total_loss\n",
    "\n",
    "opt = Adam(learning_rate=0.0001)\n",
    "vae_model.compile(optimizer=opt, loss=vae_loss)\n",
    "results = vae_model.fit(X_train, X_train, shuffle=True, epochs=10000, batch_size=32)"
   ]
  },
  {
   "cell_type": "code",
   "execution_count": null,
   "metadata": {},
   "outputs": [],
   "source": [
    "import matplotlib.pyplot as plt\n",
    "# Plot learning curve\n",
    "plt.plot(results.history['loss'])\n",
    "plt.title('Learning Curve')\n",
    "plt.ylabel('Loss')\n",
    "plt.yscale('log')\n",
    "plt.xlabel('Epoch')\n",
    "plt.show()"
   ]
  },
  {
   "cell_type": "code",
   "execution_count": null,
   "metadata": {},
   "outputs": [],
   "source": [
    "# Get the latent representation of the input data\n",
    "X_train_encoded = encoder.predict(X_train)\n",
    "X_test_encoded = encoder.predict(X_test)"
   ]
  },
  {
   "cell_type": "code",
   "execution_count": null,
   "metadata": {},
   "outputs": [],
   "source": [
    "X_train_encoded = pd.DataFrame(X_train_encoded, index=df_A.index, columns=[f\"z_{i}\" for i in range(latent_dim)])\n",
    "X_test_encoded = pd.DataFrame(X_test_encoded, index=df_B.index, columns=[f\"z_{i}\" for i in range(latent_dim)])\n",
    "\n",
    "X_train_encoded['Limonene'] = y_train\n",
    "X_test_encoded['Limonene'] = y_test"
   ]
  },
  {
   "cell_type": "code",
   "execution_count": null,
   "metadata": {},
   "outputs": [],
   "source": [
    "# Plot 3D plot of the latent representation\n",
    "from mpl_toolkits.mplot3d import Axes3D\n",
    "\n",
    "fig = plt.figure(figsize=(10,10))\n",
    "ax = fig.add_subplot(111, projection='3d')\n",
    "ax.scatter(X_train_encoded['z_0'], X_train_encoded['z_1'], X_train_encoded['z_2'], color='blue', alpha=0.4)\n",
    "ax.scatter(X_test_encoded['z_0'], X_test_encoded['z_1'], X_test_encoded['z_2'], color='red', alpha=0.4)\n",
    "# Write the index of the points if Limonene is greater than 0.5\n",
    "for i, txt in enumerate(X_train_encoded.index):\n",
    "    if X_train_encoded['Limonene'][i] > 80:\n",
    "        ax.text(X_train_encoded['z_0'][i], X_train_encoded['z_1'][i], X_train_encoded['z_2'][i], txt, color='black')\n",
    "for i, txt in enumerate(X_test_encoded.index):\n",
    "    if X_test_encoded['Limonene'][i] > 80:\n",
    "        ax.text(X_test_encoded['z_0'][i], X_test_encoded['z_1'][i], X_test_encoded['z_2'][i], txt, color='black')\n",
    "ax.set_xlabel('z_0')\n",
    "ax.set_ylabel('z_1')\n",
    "ax.set_zlabel('z_2')\n",
    "plt.title('Latent representation of the input data')\n",
    "plt.show()"
   ]
  },
  {
   "cell_type": "code",
   "execution_count": null,
   "metadata": {},
   "outputs": [],
   "source": [
    "# Perform PCA on the latent representation\n",
    "from sklearn.decomposition import PCA\n",
    "\n",
    "pca = PCA(n_components=2)\n",
    "X_train_pca = pca.fit_transform(X_train_encoded.drop(columns='Limonene'))\n",
    "X_test_pca = pca.transform(X_test_encoded.drop(columns='Limonene'))\n",
    "\n",
    "X_train_pca = pd.DataFrame(X_train_pca, index=df_A.index, columns=['PC1', 'PC2'])\n",
    "X_test_pca = pd.DataFrame(X_test_pca, index=df_B.index, columns=['PC1', 'PC2'])\n",
    "\n",
    "X_train_pca['Limonene'] = y_train\n",
    "X_test_pca['Limonene'] = y_test\n",
    "\n",
    "# Plot 2D plot of the latent representation\n",
    "plt.scatter(X_train_pca['PC1'], X_train_pca['PC2'], color='blue', alpha=0.4)\n",
    "plt.scatter(X_test_pca['PC1'], X_test_pca['PC2'], color='red', alpha=0.4)\n",
    "# Write the index of the points if Limonene is greater than ...\n",
    "for i, txt in enumerate(X_train_pca.index):\n",
    "    if X_train_pca['Limonene'][i] > 80:\n",
    "        plt.text(X_train_pca['PC1'][i], X_train_pca['PC2'][i], txt, color='black')\n",
    "for i, txt in enumerate(X_test_pca.index):\n",
    "    if X_test_pca['Limonene'][i] > 80:\n",
    "        plt.text(X_test_pca['PC1'][i], X_test_pca['PC2'][i], txt, color='black')\n",
    "plt.xlabel('PC1')\n",
    "plt.ylabel('PC2')\n",
    "plt.title('PCA of the latent representation of the input data')\n",
    "plt.show()"
   ]
  },
  {
   "cell_type": "code",
   "execution_count": null,
   "metadata": {},
   "outputs": [],
   "source": [
    "# Perform UMAP in latent space\n",
    "import umap\n",
    "\n",
    "umap_model = umap.UMAP(n_components=2)\n",
    "X_train_umap = umap_model.fit_transform(X_train_encoded.drop(columns='Limonene'))\n",
    "X_test_umap = umap_model.transform(X_test_encoded.drop(columns='Limonene'))\n",
    "\n",
    "X_train_umap = pd.DataFrame(X_train_umap, index=df_A.index, columns=['UMAP1', 'UMAP2'])\n",
    "X_test_umap = pd.DataFrame(X_test_umap, index=df_B.index, columns=['UMAP1', 'UMAP2'])\n",
    "\n",
    "X_train_umap['Limonene'] = y_train\n",
    "X_test_umap['Limonene'] = y_test\n",
    "\n",
    "# Plot 2D plot of the latent representation\n",
    "plt.scatter(X_train_umap['UMAP1'], X_train_umap['UMAP2'], color='blue', alpha=0.4)\n",
    "plt.scatter(X_test_umap['UMAP1'], X_test_umap['UMAP2'], color='red', alpha=0.4)\n",
    "# Write the index of the points if Limonene is greater than ...\n",
    "for i, txt in enumerate(X_train_umap.index):\n",
    "    if X_train_umap['Limonene'][i] > 60:\n",
    "        plt.text(X_train_umap['UMAP1'][i], X_train_umap['UMAP2'][i], txt, color='black')\n",
    "for i, txt in enumerate(X_test_umap.index):\n",
    "    if X_test_umap['Limonene'][i] > 60:\n",
    "        plt.text(X_test_umap['UMAP1'][i], X_test_umap['UMAP2'][i], txt, color='black')\n",
    "plt.xlabel('UMAP1')\n",
    "plt.ylabel('UMAP2')\n",
    "plt.title('UMAP of the latent representation of the input data')\n",
    "plt.show()\n"
   ]
  },
  {
   "cell_type": "code",
   "execution_count": null,
   "metadata": {},
   "outputs": [],
   "source": [
    "target_mean = X_train_encoded.sort_values(by='Limonene', ascending=False).head(10).drop('Limonene', axis=1).mean().values\n",
    "target_std_dev = 0.1\n",
    "\n",
    "# Generate new samples\n",
    "z = []\n",
    "for i in range(10000):\n",
    "    epsilon = np.random.normal(0, 1, latent_dim)\n",
    "    zz = target_mean + np.exp(0.5 * target_std_dev) * epsilon\n",
    "    z.append(zz)\n",
    "\n",
    "# Transrom z from list of arrays to numpy array\n",
    "z = np.array(z)\n",
    "generated_samples = decoder.predict(z)\n",
    "generated_samples = scaler.inverse_transform(generated_samples)\n",
    "generated_samples = pd.DataFrame(generated_samples, columns=[INPUT_VARS+RESPONSE_VARS])\n",
    "generated_samples.sort_values(by=('Limonene',), ascending=False, inplace=True)\n",
    "generated_samples"
   ]
  },
  {
   "cell_type": "code",
   "execution_count": null,
   "metadata": {},
   "outputs": [],
   "source": [
    "df_B"
   ]
  },
  {
   "cell_type": "code",
   "execution_count": null,
   "metadata": {},
   "outputs": [],
   "source": [
    "X_test_pred = pd.DataFrame(vae_model.predict(X_test), columns=X_train.columns).head()\n",
    "X_test_pred = pd.DataFrame(scaler.inverse_transform(X_test_pred), columns=X_train.columns)\n",
    "X_test_pred"
   ]
  },
  {
   "cell_type": "code",
   "execution_count": null,
   "metadata": {},
   "outputs": [],
   "source": []
  },
  {
   "cell_type": "code",
   "execution_count": null,
   "metadata": {},
   "outputs": [],
   "source": []
  },
  {
   "cell_type": "markdown",
   "metadata": {},
   "source": [
    "# Model selection (NCV)"
   ]
  },
  {
   "cell_type": "code",
   "execution_count": null,
   "metadata": {},
   "outputs": [],
   "source": []
  },
  {
   "cell_type": "code",
   "execution_count": null,
   "metadata": {},
   "outputs": [],
   "source": [
    "# import warnings\n",
    "# warnings.filterwarnings(\"ignore\")\n",
    "\n",
    "# ## Uncomment to run model selection\n",
    "# modelSelection(X_train, y_train)"
   ]
  },
  {
   "attachments": {
    "image-2.png": {
     "image/png": "[encoded data removed]"
    }
   },
   "cell_type": "markdown",
   "metadata": {},
   "source": [
    "![image-2.png](attachment:image-2.png)"
   ]
  },
  {
   "cell_type": "markdown",
   "metadata": {},
   "source": [
    "# ML training (Optuna)"
   ]
  },
  {
   "cell_type": "code",
   "execution_count": null,
   "metadata": {},
   "outputs": [],
   "source": [
    "# import optuna\n",
    "# from sklearn.svm import SVR\n",
    "# from sklearn.model_selection import cross_val_score\n",
    "\n",
    "\n",
    "# def objective(trial):\n",
    "#     # Define the hyperparameters to optimize\n",
    "#     C = trial.suggest_loguniform(\"C\", 0.01, 100)\n",
    "#     epsilon = trial.suggest_loguniform(\"epsilon\", 0.01, 1)\n",
    "#     gamma = trial.suggest_loguniform(\"gamma\", 0.001, 1)\n",
    "#     kernel = trial.suggest_categorical(\"kernel\", [\"linear\", \"rbf\", \"poly\", \"sigmoid\"])\n",
    "#     degree = trial.suggest_int(\"degree\", 2, 5)\n",
    "\n",
    "#     # Create the SVR model with the hyperparameters\n",
    "#     model = SVR(C=C, epsilon=epsilon, gamma=gamma, kernel=kernel, degree=degree)\n",
    "#     scores = cross_val_score(\n",
    "#         model, X_train, y_train, cv=5, scoring=\"neg_mean_absolute_error\"\n",
    "#     )\n",
    "#     return -scores.mean()\n",
    "\n",
    "\n",
    "# # Create the study object and optimize the objective function\n",
    "# study = optuna.create_study(direction=\"minimize\")\n",
    "# study.optimize(objective, n_trials=100)\n",
    "# best_params = study.best_params\n",
    "# final_model = SVR(**best_params)\n",
    "# final_model.fit(X_train, y_train)"
   ]
  },
  {
   "cell_type": "code",
   "execution_count": null,
   "metadata": {},
   "outputs": [],
   "source": [
    "import optuna\n",
    "from sklearn.linear_model import SGDRegressor\n",
    "from sklearn.model_selection import cross_val_score\n",
    "\n",
    "def objective(trial):\n",
    "    alpha = trial.suggest_loguniform(\"alpha\", 1e-5, 1e-1)\n",
    "    l1_ratio = trial.suggest_uniform(\"l1_ratio\", 0, 1)\n",
    "    learning_rate = trial.suggest_categorical(\"learning_rate\", [\"constant\", \"optimal\", \"invscaling\"])\n",
    "    eta0 = trial.suggest_loguniform(\"eta0\", 1e-5, 1e-1)\n",
    "    model = SGDRegressor(alpha=alpha, l1_ratio=l1_ratio, learning_rate=learning_rate, eta0=eta0)\n",
    "    scores = cross_val_score(model, X_train, y_train, cv=5, scoring=\"neg_mean_absolute_error\")\n",
    "    return -scores.mean()\n",
    "\n",
    "# Create the study object and optimize the objective function\n",
    "study = optuna.create_study(direction=\"minimize\")\n",
    "study.optimize(objective, n_trials=800)\n",
    "best_params = study.best_params\n",
    "final_model = SGDRegressor(**best_params)\n",
    "final_model.fit(X_train, y_train)\n"
   ]
  },
  {
   "cell_type": "code",
   "execution_count": null,
   "metadata": {},
   "outputs": [],
   "source": [
    "# # Pickle save model\n",
    "# with open(\"../models/limonene_model.pkl\", \"wb\") as f:\n",
    "#     pickle.dump(final_model, f)"
   ]
  },
  {
   "cell_type": "markdown",
   "metadata": {},
   "source": [
    "# Model evaluation (Bootstrap)"
   ]
  },
  {
   "cell_type": "code",
   "execution_count": null,
   "metadata": {},
   "outputs": [],
   "source": [
    "# pickle load model\n",
    "with open(\"../models/limonene_model.pkl\", \"rb\") as f:\n",
    "    final_model = pickle.load(f)"
   ]
  },
  {
   "cell_type": "code",
   "execution_count": null,
   "metadata": {},
   "outputs": [],
   "source": [
    "def bootstrap(X, y, model: object, n: int = 100):\n",
    "    mse_values = []\n",
    "    mae_values = []\n",
    "    for i in tqdm(range(n)):\n",
    "        X_train, X_test, y_train, y_test = train_test_split(\n",
    "            X, y, test_size=0.30, random_state=i\n",
    "        )\n",
    "        model.fit(X_train, y_train)\n",
    "        y_pred = model.predict(X_test)\n",
    "        mae_values.append(mean_absolute_error(y_test, y_pred))\n",
    "        mse_values.append(mean_squared_error(y_test, y_pred))\n",
    "    return mae_values, mse_values\n",
    "\n",
    "mae_values, mse_values = bootstrap(X_train, y_train, final_model)\n",
    "print(f\"Bootstraped Mean(MAE) = {np.mean(mae_values)}\")\n",
    "print(f\"Bootstraped Mean(MSE) = {np.mean(mse_values)}\")\n",
    "\n",
    "print(f\"Bootstraped std(MAE) = {np.std(mae_values)}\")\n",
    "print(f\"Bootstraped std(MSE) = {np.std(mse_values)}\")\n",
    "\n",
    "final_model.fit(X_train, y_train)"
   ]
  },
  {
   "cell_type": "markdown",
   "metadata": {},
   "source": [
    "# Explainable AI "
   ]
  },
  {
   "cell_type": "code",
   "execution_count": null,
   "metadata": {},
   "outputs": [],
   "source": [
    "import shap\n",
    "import matplotlib.pyplot as plt\n",
    "\n",
    "\n",
    "def pdplot(X: np.array, col: str, model: object, ice: bool = False):\n",
    "    shap.plots.partial_dependence(\n",
    "        col,\n",
    "        model.predict,\n",
    "        X,\n",
    "        ice=ice,\n",
    "        model_expected_value=True,\n",
    "        feature_expected_value=True,\n",
    "        show=True,\n",
    "    )\n",
    "\n",
    "\n",
    "def shap_scatter(feature: str, color=None):\n",
    "    if color:\n",
    "        shap.plots.scatter(shap_values[:, feature], color=shap_values[:, color])\n",
    "    else:\n",
    "        shap.plots.scatter(shap_values[:, feature])\n",
    "\n",
    "\n",
    "shap_explainer = shap.KernelExplainer(final_model.predict, df_A[INPUT_VARS])\n",
    "shap_values = shap_explainer(df_A[INPUT_VARS])\n",
    "shap_df = pd.DataFrame(shap_values.values, columns=INPUT_VARS)\n",
    "shap_df[\"pred\"] = final_model.predict(df_A[INPUT_VARS])\n",
    "shap_df[\"true\"] = df_A[RESPONSE_VARS].values.ravel()\n",
    "shap_df.sort_values(by=\"pred\", ascending=False, inplace=True)\n",
    "shap.summary_plot(shap_values, df_A[INPUT_VARS], plot_type=\"bar\", plot_size=(8, 4))\n",
    "shap.summary_plot(shap_values, df_A[INPUT_VARS], plot_type=\"dot\", plot_size=(8, 4))\n",
    "shap.plots.heatmap(shap_values, instance_order=shap_values.sum(0), plot_width=6)"
   ]
  },
  {
   "cell_type": "code",
   "execution_count": null,
   "metadata": {},
   "outputs": [],
   "source": [
    "idx=0\n",
    "shap.decision_plot(shap_explainer.expected_value, \n",
    "                   shap_df[INPUT_VARS].iloc[idx].values, \n",
    "                   INPUT_VARS)\n",
    "\n",
    "print(shap_df[['pred', 'true']].iloc[idx])"
   ]
  },
  {
   "cell_type": "code",
   "execution_count": null,
   "metadata": {},
   "outputs": [],
   "source": [
    "feature = \"KIME_YEAST\"\n",
    "pdplot(df_A[INPUT_VARS], feature, final_model, ice=True)\n",
    "shap_scatter(feature)"
   ]
  },
  {
   "cell_type": "code",
   "execution_count": null,
   "metadata": {},
   "outputs": [],
   "source": [
    "shap.force_plot(shap_explainer.expected_value, \n",
    "                   shap_df[INPUT_VARS].iloc[2].values, \n",
    "                   features=INPUT_VARS,\n",
    "                   matplotlib=True, show=True)"
   ]
  },
  {
   "cell_type": "markdown",
   "metadata": {},
   "source": [
    "# Lime"
   ]
  },
  {
   "cell_type": "code",
   "execution_count": null,
   "metadata": {},
   "outputs": [],
   "source": [
    "# Create synthetic dataset from bounds\n",
    "# Draw samples fiven the above bounds\n",
    "from scipy.stats import qmc\n",
    "\n",
    "sampler = qmc.LatinHypercube(d=len(INPUT_VARS))\n",
    "sample = sampler.random(1000)\n",
    "LB = bounds.T[\"min\"].values.tolist()\n",
    "UB = bounds.T[\"max\"].values.tolist()\n",
    "\n",
    "sample_df = pd.DataFrame(qmc.scale(sample, LB, UB), columns=INPUT_VARS)\n",
    "sample_df[\"Limonene\"] = final_model.predict(sample_df)\n",
    "sample_df.drop_duplicates(inplace=True)\n",
    "sample_df.sort_values(\"Limonene\", ascending=False, inplace=True)\n",
    "# Drop rows with Limonene < 0\n",
    "sample_df = sample_df[sample_df[\"Limonene\"] > 0]\n",
    "X_synth = sample_df[INPUT_VARS]\n",
    "y_synth = sample_df[\"Limonene\"]"
   ]
  },
  {
   "cell_type": "code",
   "execution_count": null,
   "metadata": {},
   "outputs": [],
   "source": [
    "sample_df"
   ]
  },
  {
   "cell_type": "code",
   "execution_count": null,
   "metadata": {},
   "outputs": [],
   "source": [
    "import lime\n",
    "import lime.lime_tabular\n",
    "\n",
    "explainer = lime.lime_tabular.LimeTabularExplainer(X_train.values, feature_names=INPUT_VARS,  \n",
    "                                                   verbose=True, mode='regression')\n",
    "                                                   \n",
    "i = 22\n",
    "exp = explainer.explain_instance(X_train.values[i], final_model.predict)\n",
    "exp.show_in_notebook(show_table=True, show_all=True)\n",
    "exp.as_list()\n",
    "exp.as_pyplot_figure();"
   ]
  },
  {
   "cell_type": "markdown",
   "metadata": {},
   "source": [
    "# Sampling"
   ]
  },
  {
   "cell_type": "markdown",
   "metadata": {},
   "source": [
    "Create new `sampling bounds`, to generate/recommend new strain designs."
   ]
  },
  {
   "cell_type": "code",
   "execution_count": null,
   "metadata": {},
   "outputs": [],
   "source": [
    "bounds"
   ]
  },
  {
   "cell_type": "code",
   "execution_count": null,
   "metadata": {},
   "outputs": [],
   "source": [
    "df_B "
   ]
  },
  {
   "cell_type": "code",
   "execution_count": null,
   "metadata": {},
   "outputs": [],
   "source": [
    "sampling_bounds = pd.DataFrame(columns=bounds.columns, index=bounds.index)\n",
    "\n",
    "sampling_bounds[\"Q40322_MENSP\"].loc[\"min\"] = 5.34 # 9.58\n",
    "sampling_bounds[\"Q40322_MENSP\"].loc[\"max\"] = bounds[\"Q40322_MENSP\"].loc[\"max\"]\n",
    "\n",
    "sampling_bounds[\"IDI_ECOLI\"].loc[\"min\"] = 1.95\n",
    "sampling_bounds[\"IDI_ECOLI\"].loc[\"max\"] = bounds[\"IDI_ECOLI\"].loc[\"max\"]\n",
    "\n",
    "sampling_bounds[\"Q9FD87_STAAU\"].loc[\"min\"] = 0.28 # bounds[\"Q9FD87_STAAU\"].loc[\"min\"]\n",
    "sampling_bounds[\"Q9FD87_STAAU\"].loc[\"max\"] = 0.75 # bounds[\"Q9FD87_STAAU\"].loc[\"max\"]\n",
    "\n",
    "sampling_bounds[\"Q8LKJ3_ABIGR\"].loc[\"min\"] = 1.27 #bounds[\"Q8LKJ3_ABIGR\"].loc[\"min\"]\n",
    "sampling_bounds[\"Q8LKJ3_ABIGR\"].loc[\"max\"] = 2.51\n",
    "\n",
    "sampling_bounds[\"Q9FD86_STAAU\"].loc[\"min\"] = 0.19 # bounds[\"Q9FD86_STAAU\"].loc[\"min\"]\n",
    "sampling_bounds[\"Q9FD86_STAAU\"].loc[\"max\"] = 0.78 # bounds[\"Q9FD86_STAAU\"].loc[\"max\"]\n",
    "\n",
    "sampling_bounds[\"MVD1_YEAST\"].loc[\"min\"] = 1.74 # bounds[\"MVD1_YEAST\"].loc[\"min\"]\n",
    "sampling_bounds[\"MVD1_YEAST\"].loc[\"max\"] = bounds[\"MVD1_YEAST\"].loc[\"max\"]\n",
    "\n",
    "sampling_bounds[\"ERG8_YEAST\"].loc[\"min\"] = bounds[\"ERG8_YEAST\"].loc[\"min\"]\n",
    "sampling_bounds[\"ERG8_YEAST\"].loc[\"max\"] = bounds[\"ERG8_YEAST\"].loc[\"max\"]\n",
    "\n",
    "sampling_bounds[\"ATOB_ECOLI\"].loc[\"min\"] = bounds[\"ATOB_ECOLI\"].loc[\"min\"]\n",
    "sampling_bounds[\"ATOB_ECOLI\"].loc[\"max\"] = bounds[\"ATOB_ECOLI\"].loc[\"max\"]\n",
    "\n",
    "sampling_bounds[\"KIME_YEAST\"].loc[\"min\"] = bounds[\"KIME_YEAST\"].loc[\"min\"]\n",
    "sampling_bounds[\"KIME_YEAST\"].loc[\"max\"] = bounds[\"KIME_YEAST\"].loc[\"max\"]\n",
    "\n",
    "\n",
    "# Draw samples fiven the above bounds\n",
    "from scipy.stats import qmc\n",
    "\n",
    "sampler = qmc.LatinHypercube(d=len(INPUT_VARS))\n",
    "sample = sampler.random(100000)\n",
    "LB = sampling_bounds.T[\"min\"].values.tolist()\n",
    "UB = sampling_bounds.T[\"max\"].values.tolist()\n",
    "\n",
    "sample_df = pd.DataFrame(qmc.scale(sample, LB, UB), columns=INPUT_VARS)\n",
    "sample_df[\"pred\"] = final_model.predict(sample_df)\n",
    "sample_df.drop_duplicates(inplace=True)\n",
    "sample_df.sort_values(\"pred\", ascending=False, inplace=True)"
   ]
  },
  {
   "cell_type": "markdown",
   "metadata": {},
   "source": [
    "# Counterfactuals (`DiCE`)"
   ]
  },
  {
   "cell_type": "code",
   "execution_count": null,
   "metadata": {},
   "outputs": [],
   "source": [
    "import dice_ml\n",
    "from dice_ml.utils import helpers\n",
    "\n",
    "sorted_idx = df_A.sort_values(\"Limonene\", ascending=False).index\n",
    "X_train = X_train.loc[sorted_idx]\n",
    "\n",
    "def bounds_to_dict(bounds: pd.DataFrame):\n",
    "    bounds_dict = bounds.to_dict()\n",
    "    bounds_dict = {k: [v[\"min\"], v[\"max\"]] for k, v in bounds_dict.items()}\n",
    "    return bounds_dict\n",
    "\n",
    "\n",
    "query_instances = X_train[0:2]\n",
    "\n",
    "d = dice_ml.Data(\n",
    "    dataframe=df_A, continuous_features=INPUT_VARS, outcome_name=RESPONSE_VARS[0]\n",
    ")\n",
    "m = dice_ml.Model(model=final_model, backend=\"sklearn\",model_type=\"regressor\")\n",
    "exp = dice_ml.Dice(d, m, method=\"genetic\")\n",
    "e1 = exp.generate_counterfactuals(\n",
    "    query_instances,\n",
    "    total_CFs=3,\n",
    "    desired_range=[105, 130],\n",
    "    permitted_range=bounds_to_dict(sampling_bounds),\n",
    "    features_to_vary=\"all\",\n",
    "    # proximity_weight=0.4,\n",
    "    # diversity_weight=0.8,\n",
    "    # sparsity_weight=0.4\n",
    ")\n",
    "\n",
    "cf_df = e1.cf_examples_list[0].final_cfs_df\n",
    "# e1.visualize_as_dataframe(show_only_changes=False)"
   ]
  },
  {
   "cell_type": "code",
   "execution_count": null,
   "metadata": {},
   "outputs": [],
   "source": [
    "cf_df = pd.DataFrame()\n",
    "for i in range(len(e1.cf_examples_list)):\n",
    "    _ = e1.cf_examples_list[i].final_cfs_df\n",
    "    # Concatenate the dataframes\n",
    "    cf_df = pd.concat([cf_df, _], axis=0)\n",
    "\n",
    "cf_df.sort_values('Limonene', ascending=False, inplace=True)\n",
    "cf_df.head(10)"
   ]
  },
  {
   "cell_type": "code",
   "execution_count": null,
   "metadata": {},
   "outputs": [],
   "source": [
    "df_B"
   ]
  },
  {
   "cell_type": "markdown",
   "metadata": {},
   "source": [
    "# PCA"
   ]
  },
  {
   "cell_type": "code",
   "execution_count": null,
   "metadata": {},
   "outputs": [],
   "source": [
    "from sklearn.decomposition import PCA\n",
    "import matplotlib.pyplot as plt\n",
    "\n",
    "pca = PCA(n_components=2)\n",
    "pca.fit(df_A[INPUT_VARS])\n",
    "trans_df_A = pca.transform(df_A[INPUT_VARS])\n",
    "trans_df_B = pca.transform(df_B[INPUT_VARS])\n",
    "trans_rec = pca.transform(sample_df[INPUT_VARS][:10])\n",
    "\n",
    "# Plot\n",
    "plt.scatter(trans_df_A[:, 0], trans_df_A[:, 1], label=\"DBTL_A\", alpha=0.3, s=10)\n",
    "plt.scatter(trans_df_B[:, 0], trans_df_B[:, 1], label=\"DBTL_B\", marker=\"+\")\n",
    "for i, txt in enumerate(DBTL_B):\n",
    "    plt.annotate(txt, (trans_df_B[i, 0], trans_df_B[i, 1]))\n",
    "plt.scatter(trans_rec[:, 0], trans_rec[:, 1], label=\"REC\", marker=\"x\")\n",
    "plt.xlabel(\"Principal Component 1\")\n",
    "plt.ylabel(\"Principal Component 2\")\n",
    "plt.title(\"PCA Scatter Plot\")\n",
    "plt.legend()\n",
    "plt.show()\n",
    "\n",
    "print(df_B[\"Limonene\"].sort_values(ascending=False))"
   ]
  },
  {
   "cell_type": "code",
   "execution_count": null,
   "metadata": {},
   "outputs": [],
   "source": [
    "final_model.predict(df_B[INPUT_VARS])"
   ]
  },
  {
   "cell_type": "code",
   "execution_count": null,
   "metadata": {},
   "outputs": [],
   "source": [
    "from scipy.spatial import distance\n",
    "\n",
    "# Assuming you have two vectors vec1 and vec2\n",
    "vec1 = sample_df.iloc[0][INPUT_VARS]\n",
    "vec2 = df_A.iloc[24][INPUT_VARS]\n",
    "\n",
    "\n",
    "def calculate_similarity(vec1, vec2):\n",
    "    # Use the euclidean function from scipy's distance module to calculate the Euclidean distance\n",
    "    euclidean_distance = distance.euclidean(vec1, vec2) \n",
    "    manhattan_distance = distance.cityblock(vec1, vec2)\n",
    "    cosine_distance = distance.cosine(vec1, vec2)\n",
    "    pearson_corr = np.corrcoef(vec1, vec2)[0][1]\n",
    "    print(f\"Euclidean distance: {euclidean_distance}\")\n",
    "    print(f'Manhattan distance: {manhattan_distance}')\n",
    "    print(f'Cosine distance: {cosine_distance}')\n",
    "    print(f'Pearson correlation: {pearson_corr}')\n",
    "\n",
    "calculate_similarity(vec1, vec2)"
   ]
  },
  {
   "cell_type": "code",
   "execution_count": null,
   "metadata": {},
   "outputs": [],
   "source": []
  }
 ],
 "metadata": {
  "kernelspec": {
   "display_name": "Python 3 (ipykernel)",
   "language": "python",
   "name": "python3"
  },
  "language_info": {
   "codemirror_mode": {
    "name": "ipython",
    "version": 3
   },
   "file_extension": ".py",
   "mimetype": "text/x-python",
   "name": "python",
   "nbconvert_exporter": "python",
   "pygments_lexer": "ipython3",
   "version": "3.10.12"
  }
 },
 "nbformat": 4,
 "nbformat_minor": 4
}
